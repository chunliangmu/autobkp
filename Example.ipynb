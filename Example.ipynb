{
 "cells": [
  {
   "cell_type": "code",
   "execution_count": 1,
   "id": "9125279f-7d61-46f0-a117-90a71b0eb1f5",
   "metadata": {},
   "outputs": [],
   "source": [
    "import src as abk    # replace this with \"import src as abk\" if you are importing it from an upper level"
   ]
  },
  {
   "cell_type": "code",
   "execution_count": 2,
   "id": "477243d8-2152-4ccf-9929-8ba89d4ae812",
   "metadata": {},
   "outputs": [
    {
     "name": "stdout",
     "output_type": "stream",
     "text": [
      "Help on function backup in module src.autobkp:\n",
      "\n",
      "backup(src_path: str, dst_path: str, src_filename: None | str = None, filecmp_shallow: bool = True, gztar_list: set[str] | list[str] = {'.git'}, ignore_list: set[str] | list[str] = {'.ipynb_checkpoints', '__pycache__'}, dry_run: bool = False, log_lvl: bool | int = 10, verbose: int = 4) -> dict\n",
      "    Backup data from src to dst.\n",
      "    \n",
      "    New backup function!\n",
      "    \n",
      "    WARNING: SYMBOLIC LINKS WON'T BE FOLLOWED.\n",
      "    WARNING: DO NOT HAVE FILES HAVING THE SAME NAME WITH THE DIRECTORIES- WILL CAUSE CONFUSION FOR THE CODE\n",
      "    WARNING: DO NOT PUT DESTINATION PATH dst_path IN ANY SUBFOLDER OF src_path- MAY CAUSE CATASTROPHIC CONSEQUENCES.\n",
      "    \n",
      "    \n",
      "    Parameters\n",
      "    ----------\n",
      "    src_path: str\n",
      "        Path to the source files. Could point to one file or one directory.\n",
      "    \n",
      "    dst_path: str\n",
      "        Path to the backup destination where files will be stored. Could point to one file or one directory.\n",
      "        \n",
      "    src_filename: str\n",
      "        File name of the source file / folder\n",
      "        i.e. if src_path == \"/home/admin/abc/edf/\", then src_filename would be \"edf\"\n",
      "        If None, will infer from src_path\n",
      "        if src_path == \"../..\", then src_filename would be inferred to be \"..\"\n",
      "            in which case, you might want to manually set it to be whatever you prefer\n",
      "            \n",
      "    filecmp_shallow: bool\n",
      "        If True, will not compare src files and dst files (if exist) byte by byte;\n",
      "            They will be considered true if they have the same size and modification time.\n",
      "    \n",
      "    gztar_list: list\n",
      "        make an archive for folder names matching this list.\n",
      "    \n",
      "    ignore_list: list\n",
      "        Do not backup files/folders within this list at all.\n",
      "        Only check this if src_path points to a folder.\n",
      "    \n",
      "    dry_run: bool\n",
      "        Print what will be done (if verbose >= 3) instead of actually doing.\n",
      "    \n",
      "    log_lvl : bool|int\n",
      "        If true, will auto log to files.\n",
      "    \n",
      "    verbose: int\n",
      "        Wehther errors, warnings, notes, and debug info should be printed on screen. \n",
      "    \n",
      "    Returns\n",
      "    -------\n",
      "    filetree: dict\n",
      "        See get_filetree() for format.\n",
      "\n"
     ]
    }
   ],
   "source": [
    "if __name__ == '__main__':\n",
    "    help(abk.backup)"
   ]
  },
  {
   "cell_type": "code",
   "execution_count": 3,
   "id": "68d7de7b-3119-44fc-8b2f-8945738ce910",
   "metadata": {
    "scrolled": true
   },
   "outputs": [
    {
     "name": "stdout",
     "output_type": "stream",
     "text": [
      "*   Note   :    run_code() ==> <module>() ==> backup():\n",
      "\tLogging to '/mnt/d/da/temp/temp_backup/_bkp_meta_/test_example.filetree.bkp20240510024121602711.log',\n",
      "\tunder __name__='src.autobkp'.\n",
      "*   Note   :    run_code() ==> <module>() ==> backup():\n",
      "\t\n",
      "\n",
      "\n",
      "\tBeginning backup (dry_run=False)\n",
      "\t\n",
      "\n",
      "\tsrc_path='autobkp'\n",
      "\tdst_filepath='/mnt/d/da/temp/temp_backup/test_example'\n",
      "\t\n",
      "\n",
      "\tStart: 2024-05-10T02:41:21.635804\n",
      "\t\n",
      "\n",
      "\tScanning file tree...\t\n",
      "*** Error  :    <module>() ==> backup() ==> get_filetree():\n",
      "\tFile 'autobkp' does not exist.\n"
     ]
    },
    {
     "ename": "TypeError",
     "evalue": "'NoneType' object is not subscriptable",
     "output_type": "error",
     "traceback": [
      "\u001b[0;31m---------------------------------------------------------------------------\u001b[0m",
      "\u001b[0;31mTypeError\u001b[0m                                 Traceback (most recent call last)",
      "Cell \u001b[0;32mIn[3], line 6\u001b[0m\n\u001b[1;32m      1\u001b[0m \u001b[38;5;28;01mif\u001b[39;00m \u001b[38;5;18m__name__\u001b[39m \u001b[38;5;241m==\u001b[39m \u001b[38;5;124m'\u001b[39m\u001b[38;5;124m__main__\u001b[39m\u001b[38;5;124m'\u001b[39m:\n\u001b[1;32m      2\u001b[0m     \u001b[38;5;66;03m# this function will create two additional files in {dst_path}/_bkp_meta_ dir, as well as copying everying if dry_run=False:\u001b[39;00m\n\u001b[1;32m      3\u001b[0m     \u001b[38;5;66;03m#     a .json file recording every file in the directory, and\u001b[39;00m\n\u001b[1;32m      4\u001b[0m     \u001b[38;5;66;03m#     a .log  file recording the files\u001b[39;00m\n\u001b[1;32m      5\u001b[0m     \u001b[38;5;66;03m# new_filetree is the content in the filetree\u001b[39;00m\n\u001b[0;32m----> 6\u001b[0m     new_filetree \u001b[38;5;241m=\u001b[39m \u001b[43mabk\u001b[49m\u001b[38;5;241;43m.\u001b[39;49m\u001b[43mbackup\u001b[49m\u001b[43m(\u001b[49m\n\u001b[1;32m      7\u001b[0m \u001b[43m        \u001b[49m\u001b[43msrc_path\u001b[49m\u001b[38;5;241;43m=\u001b[39;49m\u001b[38;5;124;43m'\u001b[39;49m\u001b[38;5;124;43m./autobkp\u001b[39;49m\u001b[38;5;124;43m'\u001b[39;49m\u001b[43m,\u001b[49m\u001b[43m    \u001b[49m\u001b[38;5;66;43;03m# replace this with the path to your directory that you want to be backed-up\u001b[39;49;00m\n\u001b[1;32m      8\u001b[0m \u001b[43m        \u001b[49m\u001b[43mdst_path\u001b[49m\u001b[38;5;241;43m=\u001b[39;49m\u001b[38;5;124;43m'\u001b[39;49m\u001b[38;5;124;43m/mnt/d/da/temp/temp_backup\u001b[39;49m\u001b[38;5;124;43m'\u001b[39;49m\u001b[43m,\u001b[49m\u001b[43m    \u001b[49m\u001b[38;5;66;43;03m# replace this with the path to the place where you want your files to be copied to\u001b[39;49;00m\n\u001b[1;32m      9\u001b[0m \u001b[43m        \u001b[49m\u001b[43msrc_filename\u001b[49m\u001b[38;5;241;43m=\u001b[39;49m\u001b[38;5;124;43m\"\u001b[39;49m\u001b[38;5;124;43mtest_example\u001b[39;49m\u001b[38;5;124;43m\"\u001b[39;49m\u001b[43m,\u001b[49m\u001b[43m    \u001b[49m\u001b[38;5;66;43;03m# name of the backup operation. Set it to wahtever you like.\u001b[39;49;00m\n\u001b[1;32m     10\u001b[0m \u001b[43m        \u001b[49m\u001b[43mdry_run\u001b[49m\u001b[38;5;241;43m=\u001b[39;49m\u001b[38;5;28;43;01mFalse\u001b[39;49;00m\u001b[43m,\u001b[49m\u001b[43m    \u001b[49m\u001b[38;5;66;43;03m# if True, will not do the actual copying.\u001b[39;49;00m\n\u001b[1;32m     11\u001b[0m \u001b[43m    \u001b[49m\u001b[43m)\u001b[49m\n",
      "File \u001b[0;32m/mnt/d/Sync_OneDrive/Macquarie University/Project RT in CEE - Docs/Projects/20230201/src/tools/autobkp/src/autobkp.py:527\u001b[0m, in \u001b[0;36mbackup\u001b[0;34m(src_path, dst_path, src_filename, filecmp_shallow, gztar_list, ignore_list, dry_run, log_lvl, verbose)\u001b[0m\n\u001b[1;32m    525\u001b[0m \u001b[38;5;66;03m# scan the folder/file to get the filetree\u001b[39;00m\n\u001b[1;32m    526\u001b[0m ans \u001b[38;5;241m=\u001b[39m get_filetree(src_path, src_filename\u001b[38;5;241m=\u001b[39msrc_filename, gztar_list\u001b[38;5;241m=\u001b[39mgztar_list, ignore_list\u001b[38;5;241m=\u001b[39mignore_list)\n\u001b[0;32m--> 527\u001b[0m new_filetree \u001b[38;5;241m=\u001b[39m {\u001b[43mans\u001b[49m\u001b[43m[\u001b[49m\u001b[38;5;241;43m0\u001b[39;49m\u001b[43m]\u001b[49m: ans[\u001b[38;5;241m1\u001b[39m]}\n\u001b[1;32m    529\u001b[0m no_files_total \u001b[38;5;241m=\u001b[39m ans[\u001b[38;5;241m1\u001b[39m][\u001b[38;5;124m'\u001b[39m\u001b[38;5;124mno_f\u001b[39m\u001b[38;5;124m'\u001b[39m]\n\u001b[1;32m    530\u001b[0m say(\u001b[38;5;124m'\u001b[39m\u001b[38;5;124mnote\u001b[39m\u001b[38;5;124m'\u001b[39m, \u001b[38;5;28;01mNone\u001b[39;00m, verbose, \u001b[38;5;124mf\u001b[39m\u001b[38;5;124m\"\u001b[39m\u001b[38;5;124mScanned \u001b[39m\u001b[38;5;132;01m{\u001b[39;00mno_files_total\u001b[38;5;132;01m}\u001b[39;00m\u001b[38;5;124m files.\u001b[39m\u001b[38;5;124m\"\u001b[39m)\n",
      "\u001b[0;31mTypeError\u001b[0m: 'NoneType' object is not subscriptable"
     ]
    }
   ],
   "source": [
    "if __name__ == '__main__':\n",
    "    # this function will create two additional files in {dst_path}/_bkp_meta_ dir, as well as copying everying if dry_run=False:\n",
    "    #     a .json file recording every file in the directory, and\n",
    "    #     a .log  file recording the files\n",
    "    # new_filetree is the content in the filetree\n",
    "    new_filetree = abk.backup(\n",
    "        src_path='./autobkp',    # replace this with the path to your directory that you want to be backed-up\n",
    "        dst_path='/mnt/d/da/temp/temp_backup',    # replace this with the path to the place where you want your files to be copied to\n",
    "        src_filename=\"test_example\",    # name of the backup operation. Set it to wahtever you like.\n",
    "        dry_run=False,    # if True, will not do the actual copying.\n",
    "    )"
   ]
  }
 ],
 "metadata": {
  "kernelspec": {
   "display_name": "Python 3 (ipykernel)",
   "language": "python",
   "name": "python3"
  },
  "language_info": {
   "codemirror_mode": {
    "name": "ipython",
    "version": 3
   },
   "file_extension": ".py",
   "mimetype": "text/x-python",
   "name": "python",
   "nbconvert_exporter": "python",
   "pygments_lexer": "ipython3",
   "version": "3.11.6"
  }
 },
 "nbformat": 4,
 "nbformat_minor": 5
}
