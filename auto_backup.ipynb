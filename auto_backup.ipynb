{
 "cells": [
  {
   "cell_type": "code",
   "execution_count": null,
   "id": "04b722d4-7564-4a8b-a0de-9c859230ef94",
   "metadata": {},
   "outputs": [],
   "source": [
    "\"\"\"A script to auto-backup data.\"\"\"\n",
    "\n",
    "def dir_backup(\n",
    "    src_path: str,\n",
    "    dst_path: str,\n",
    "):\n",
    "    \"\"\"Backup data from src to dst.\n",
    "    \n",
    "    Parameters\n",
    "    ----------\n",
    "    src_path: str\n",
    "        Path to the source files. Could point to one file or one directory.\n",
    "\n",
    "    dst_path: str\n",
    "        Path to the backup destination where files will be stored. Could point to one file or one directory.\n",
    "    \"\"\"\n",
    "    pass\n",
    "\n"
   ]
  }
 ],
 "metadata": {
  "kernelspec": {
   "display_name": "Python 3 (ipykernel)",
   "language": "python",
   "name": "python3"
  },
  "language_info": {
   "codemirror_mode": {
    "name": "ipython",
    "version": 3
   },
   "file_extension": ".py",
   "mimetype": "text/x-python",
   "name": "python",
   "nbconvert_exporter": "python",
   "pygments_lexer": "ipython3",
   "version": "3.10.12"
  }
 },
 "nbformat": 4,
 "nbformat_minor": 5
}
